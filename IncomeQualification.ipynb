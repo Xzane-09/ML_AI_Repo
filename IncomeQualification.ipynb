{
 "cells": [
  {
   "cell_type": "markdown",
   "metadata": {},
   "source": [
    "#### DESCRIPTION\n",
    "\n",
    "Identify the level of income qualification needed for the families in Latin America.\n",
    "\n",
    "#### Problem Statement Scenario:\n",
    "Many social programs have a hard time ensuring that the right people are given enough aid. It’s tricky when a program focuses on the poorest segment of the population. This segment of the population can’t provide the necessary income and expense records to prove that they qualify.\n",
    "\n",
    "In Latin America, a popular method called Proxy Means Test (PMT) uses an algorithm to verify income qualification. With PMT, agencies use a model that considers a family’s observable household attributes like the material of their walls and ceiling or the assets found in their homes to\n",
    "classify them and predict their level of need.\n",
    "\n",
    "While this is an improvement, accuracy remains a problem as the region’s population grows and poverty declines.\n",
    "\n",
    "The Inter-American Development Bank (IDB)believes that new methods beyond traditional econometrics, based on a dataset of Costa Rican household characteristics, might help improve PMT’s performance.\n",
    "\n",
    "#### Following actions should be performed:\n",
    "\n",
    "* Identify the output variable.\n",
    "* Understand the type of data.\n",
    "* Check if there are any biases in your dataset.\n",
    "* Check whether all members of the house have the same poverty level.\n",
    "* Check if there is a house without a family head.\n",
    "* Set poverty level of the members and the head of the house within a family.\n",
    "* Count how many null values are existing in columns.\n",
    "* Remove null value rows of the target variable.\n",
    "* Predict the accuracy using random forest classifier.\n",
    "* Check the accuracy using random forest with cross validation."
   ]
  },
  {
   "cell_type": "code",
   "execution_count": 14,
   "metadata": {},
   "outputs": [],
   "source": [
    "import numpy as np\n",
    "import pandas as pd\n",
    "\n",
    "from datetime import datetime\n",
    "\n",
    "\n",
    "\n",
    "%matplotlib inline\n",
    "\n",
    "import seaborn as sns\n",
    "sns.set()\n",
    "\n",
    "import warnings\n",
    "warnings.filterwarnings('ignore')"
   ]
  },
  {
   "cell_type": "code",
   "execution_count": 15,
   "metadata": {},
   "outputs": [],
   "source": [
    "train = pd.read_csv('train.csv')\n",
    "test = pd.read_csv('test.csv')"
   ]
  },
  {
   "cell_type": "code",
   "execution_count": 16,
   "metadata": {},
   "outputs": [],
   "source": [
    "train['is_test']=0\n",
    "test['is_test']=1\n",
    "\n",
    "df = pd.concat([train, test], axis=0)"
   ]
  },
  {
   "cell_type": "code",
   "execution_count": 17,
   "metadata": {},
   "outputs": [
    {
     "name": "stdout",
     "output_type": "stream",
     "text": [
      "Index(['Id', 'SQBage', 'SQBdependency', 'SQBedjefe', 'SQBescolari',\n",
      "       'SQBhogar_nin', 'SQBhogar_total', 'SQBmeaned', 'SQBovercrowding',\n",
      "       'Target',\n",
      "       ...\n",
      "       'television', 'tipovivi1', 'tipovivi2', 'tipovivi3', 'tipovivi4',\n",
      "       'tipovivi5', 'v14a', 'v18q', 'v18q1', 'v2a1'],\n",
      "      dtype='object', length=144)\n"
     ]
    }
   ],
   "source": [
    "print(df.columns)"
   ]
  },
  {
   "cell_type": "code",
   "execution_count": 18,
   "metadata": {},
   "outputs": [],
   "source": [
    "#def dprint(*args,**kwargs):\n",
    "#    print('[{}]'.format(datetime.datetime.now().strftime('%Y-%m-%d %H:%M')) + \" \",join(map(str,args)),**kwargs)"
   ]
  },
  {
   "cell_type": "code",
   "execution_count": 20,
   "metadata": {},
   "outputs": [],
   "source": [
    "#dprint('Clean Features')"
   ]
  },
  {
   "cell_type": "code",
   "execution_count": 31,
   "metadata": {},
   "outputs": [
    {
     "name": "stderr",
     "output_type": "stream",
     "text": [
      "100%|██████████| 1/1 [00:00<00:00, 16.22it/s]"
     ]
    },
    {
     "name": "stdout",
     "output_type": "stream",
     "text": [
      "2020-01-09 08:25:39.921953 Cleaning Features...\n",
      "2020-01-09 08:25:39.987981 Done!!\n"
     ]
    },
    {
     "name": "stderr",
     "output_type": "stream",
     "text": [
      "\n"
     ]
    }
   ],
   "source": [
    "print(f'{datetime.now()} Cleaning Features...')\n",
    "\n",
    "from tqdm import tqdm\n",
    "cols = ['dependency']\n",
    "\n",
    "for c in tqdm(cols):\n",
    "    x = df[c].values\n",
    "    strs = []\n",
    "    for i,v in enumerate(c):\n",
    "        try:\n",
    "            val=float(v)\n",
    "        except:\n",
    "            strs.append(v)\n",
    "            val=np.nan\n",
    "        x[i]=val\n",
    "    strs = np.unique(strs)\n",
    "    \n",
    "    for s in strs:\n",
    "        df[c + '_' + s] = df[c].apply(lambda x: 1 if x==s else 0)\n",
    "    \n",
    "    df[c]=x\n",
    "    \n",
    "print(f'{datetime.now()} Done!!')"
   ]
  },
  {
   "cell_type": "code",
   "execution_count": null,
   "metadata": {},
   "outputs": [],
   "source": []
  },
  {
   "cell_type": "code",
   "execution_count": null,
   "metadata": {},
   "outputs": [],
   "source": []
  },
  {
   "cell_type": "code",
   "execution_count": null,
   "metadata": {},
   "outputs": [],
   "source": []
  },
  {
   "cell_type": "code",
   "execution_count": null,
   "metadata": {},
   "outputs": [],
   "source": []
  },
  {
   "cell_type": "code",
   "execution_count": null,
   "metadata": {},
   "outputs": [],
   "source": []
  },
  {
   "cell_type": "code",
   "execution_count": null,
   "metadata": {},
   "outputs": [],
   "source": []
  },
  {
   "cell_type": "code",
   "execution_count": null,
   "metadata": {},
   "outputs": [],
   "source": []
  },
  {
   "cell_type": "code",
   "execution_count": null,
   "metadata": {},
   "outputs": [],
   "source": []
  }
 ],
 "metadata": {
  "kernelspec": {
   "display_name": "Python 3",
   "language": "python",
   "name": "python3"
  },
  "language_info": {
   "codemirror_mode": {
    "name": "ipython",
    "version": 3
   },
   "file_extension": ".py",
   "mimetype": "text/x-python",
   "name": "python",
   "nbconvert_exporter": "python",
   "pygments_lexer": "ipython3",
   "version": "3.7.4"
  }
 },
 "nbformat": 4,
 "nbformat_minor": 2
}
