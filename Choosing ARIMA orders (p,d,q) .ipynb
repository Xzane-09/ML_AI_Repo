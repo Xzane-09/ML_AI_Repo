{
 "cells": [
  {
   "cell_type": "code",
   "execution_count": 5,
   "metadata": {},
   "outputs": [],
   "source": [
    "import pandas as pd\n",
    "import warnings\n",
    "warnings.filterwarnings\n",
    "%matplotlib inline"
   ]
  },
  {
   "cell_type": "code",
   "execution_count": 48,
   "metadata": {},
   "outputs": [],
   "source": [
    "# Import Airline passenger dataset\n",
    "df_Air = pd.read_csv('E:/Xzane/Priyesh/Courses - Training materials/Simplilearn/Machine Learning/class notes,ppt,ipynb,datasets,etc/Time_Series_Analysis/Data/airline_passengers.csv',index_col='Month',parse_dates=True)\n",
    "df_Air.index.freq='MS'"
   ]
  },
  {
   "cell_type": "code",
   "execution_count": 49,
   "metadata": {},
   "outputs": [
    {
     "data": {
      "text/html": [
       "<div>\n",
       "<style scoped>\n",
       "    .dataframe tbody tr th:only-of-type {\n",
       "        vertical-align: middle;\n",
       "    }\n",
       "\n",
       "    .dataframe tbody tr th {\n",
       "        vertical-align: top;\n",
       "    }\n",
       "\n",
       "    .dataframe thead th {\n",
       "        text-align: right;\n",
       "    }\n",
       "</style>\n",
       "<table border=\"1\" class=\"dataframe\">\n",
       "  <thead>\n",
       "    <tr style=\"text-align: right;\">\n",
       "      <th></th>\n",
       "      <th>Thousands of Passengers</th>\n",
       "    </tr>\n",
       "    <tr>\n",
       "      <th>Month</th>\n",
       "      <th></th>\n",
       "    </tr>\n",
       "  </thead>\n",
       "  <tbody>\n",
       "    <tr>\n",
       "      <th>1949-01-01</th>\n",
       "      <td>112</td>\n",
       "    </tr>\n",
       "    <tr>\n",
       "      <th>1949-02-01</th>\n",
       "      <td>118</td>\n",
       "    </tr>\n",
       "    <tr>\n",
       "      <th>1949-03-01</th>\n",
       "      <td>132</td>\n",
       "    </tr>\n",
       "    <tr>\n",
       "      <th>1949-04-01</th>\n",
       "      <td>129</td>\n",
       "    </tr>\n",
       "    <tr>\n",
       "      <th>1949-05-01</th>\n",
       "      <td>121</td>\n",
       "    </tr>\n",
       "  </tbody>\n",
       "</table>\n",
       "</div>"
      ],
      "text/plain": [
       "            Thousands of Passengers\n",
       "Month                              \n",
       "1949-01-01                      112\n",
       "1949-02-01                      118\n",
       "1949-03-01                      132\n",
       "1949-04-01                      129\n",
       "1949-05-01                      121"
      ]
     },
     "execution_count": 49,
     "metadata": {},
     "output_type": "execute_result"
    }
   ],
   "source": [
    "df_Air.head()"
   ]
  },
  {
   "cell_type": "code",
   "execution_count": 50,
   "metadata": {},
   "outputs": [],
   "source": [
    "# Import Birth dataset\n",
    "df_Birth = pd.read_csv('E:/Xzane/Priyesh/Courses - Training materials/Simplilearn/Machine Learning/class notes,ppt,ipynb,datasets,etc/Time_Series_Analysis/Data/DailyTotalFemaleBirths.csv',index_col='Date',parse_dates=True)\n",
    "df_Birth.index.freq='D'"
   ]
  },
  {
   "cell_type": "code",
   "execution_count": 51,
   "metadata": {},
   "outputs": [
    {
     "data": {
      "text/html": [
       "<div>\n",
       "<style scoped>\n",
       "    .dataframe tbody tr th:only-of-type {\n",
       "        vertical-align: middle;\n",
       "    }\n",
       "\n",
       "    .dataframe tbody tr th {\n",
       "        vertical-align: top;\n",
       "    }\n",
       "\n",
       "    .dataframe thead th {\n",
       "        text-align: right;\n",
       "    }\n",
       "</style>\n",
       "<table border=\"1\" class=\"dataframe\">\n",
       "  <thead>\n",
       "    <tr style=\"text-align: right;\">\n",
       "      <th></th>\n",
       "      <th>Births</th>\n",
       "    </tr>\n",
       "    <tr>\n",
       "      <th>Date</th>\n",
       "      <th></th>\n",
       "    </tr>\n",
       "  </thead>\n",
       "  <tbody>\n",
       "    <tr>\n",
       "      <th>1959-01-01</th>\n",
       "      <td>35</td>\n",
       "    </tr>\n",
       "    <tr>\n",
       "      <th>1959-01-02</th>\n",
       "      <td>32</td>\n",
       "    </tr>\n",
       "    <tr>\n",
       "      <th>1959-01-03</th>\n",
       "      <td>30</td>\n",
       "    </tr>\n",
       "    <tr>\n",
       "      <th>1959-01-04</th>\n",
       "      <td>31</td>\n",
       "    </tr>\n",
       "    <tr>\n",
       "      <th>1959-01-05</th>\n",
       "      <td>44</td>\n",
       "    </tr>\n",
       "  </tbody>\n",
       "</table>\n",
       "</div>"
      ],
      "text/plain": [
       "            Births\n",
       "Date              \n",
       "1959-01-01      35\n",
       "1959-01-02      32\n",
       "1959-01-03      30\n",
       "1959-01-04      31\n",
       "1959-01-05      44"
      ]
     },
     "execution_count": 51,
     "metadata": {},
     "output_type": "execute_result"
    }
   ],
   "source": [
    "df_Birth.head()"
   ]
  },
  {
   "cell_type": "code",
   "execution_count": 52,
   "metadata": {},
   "outputs": [],
   "source": [
    "#!pip install pmdarima"
   ]
  },
  {
   "cell_type": "code",
   "execution_count": 53,
   "metadata": {},
   "outputs": [],
   "source": [
    "from pmdarima import auto_arima\n",
    "import warnings\n",
    "warnings.filterwarnings('ignore')"
   ]
  },
  {
   "cell_type": "code",
   "execution_count": 54,
   "metadata": {},
   "outputs": [],
   "source": [
    "#help(auto_arima)"
   ]
  },
  {
   "cell_type": "code",
   "execution_count": 60,
   "metadata": {},
   "outputs": [
    {
     "data": {
      "text/html": [
       "<table class=\"simpletable\">\n",
       "<caption>SARIMAX Results</caption>\n",
       "<tr>\n",
       "  <th>Dep. Variable:</th>           <td>y</td>        <th>  No. Observations:  </th>    <td>144</td>  \n",
       "</tr>\n",
       "<tr>\n",
       "  <th>Model:</th>           <td>SARIMAX(4, 1, 3)</td> <th>  Log Likelihood     </th> <td>-674.913</td>\n",
       "</tr>\n",
       "<tr>\n",
       "  <th>Date:</th>            <td>Wed, 26 Aug 2020</td> <th>  AIC                </th> <td>1365.825</td>\n",
       "</tr>\n",
       "<tr>\n",
       "  <th>Time:</th>                <td>01:37:57</td>     <th>  BIC                </th> <td>1389.528</td>\n",
       "</tr>\n",
       "<tr>\n",
       "  <th>Sample:</th>                  <td>0</td>        <th>  HQIC               </th> <td>1375.457</td>\n",
       "</tr>\n",
       "<tr>\n",
       "  <th></th>                      <td> - 144</td>      <th>                     </th>     <td> </td>   \n",
       "</tr>\n",
       "<tr>\n",
       "  <th>Covariance Type:</th>        <td>opg</td>       <th>                     </th>     <td> </td>   \n",
       "</tr>\n",
       "</table>\n",
       "<table class=\"simpletable\">\n",
       "<tr>\n",
       "     <td></td>       <th>coef</th>     <th>std err</th>      <th>z</th>      <th>P>|z|</th>  <th>[0.025</th>    <th>0.975]</th>  \n",
       "</tr>\n",
       "<tr>\n",
       "  <th>ar.L1</th>  <td>   -0.5582</td> <td>    0.117</td> <td>   -4.782</td> <td> 0.000</td> <td>   -0.787</td> <td>   -0.329</td>\n",
       "</tr>\n",
       "<tr>\n",
       "  <th>ar.L2</th>  <td>    0.4935</td> <td>    0.113</td> <td>    4.375</td> <td> 0.000</td> <td>    0.272</td> <td>    0.715</td>\n",
       "</tr>\n",
       "<tr>\n",
       "  <th>ar.L3</th>  <td>    0.1238</td> <td>    0.128</td> <td>    0.970</td> <td> 0.332</td> <td>   -0.126</td> <td>    0.374</td>\n",
       "</tr>\n",
       "<tr>\n",
       "  <th>ar.L4</th>  <td>   -0.5213</td> <td>    0.085</td> <td>   -6.136</td> <td> 0.000</td> <td>   -0.688</td> <td>   -0.355</td>\n",
       "</tr>\n",
       "<tr>\n",
       "  <th>ma.L1</th>  <td>    0.9069</td> <td>    0.094</td> <td>    9.657</td> <td> 0.000</td> <td>    0.723</td> <td>    1.091</td>\n",
       "</tr>\n",
       "<tr>\n",
       "  <th>ma.L2</th>  <td>   -0.5590</td> <td>    0.145</td> <td>   -3.866</td> <td> 0.000</td> <td>   -0.842</td> <td>   -0.276</td>\n",
       "</tr>\n",
       "<tr>\n",
       "  <th>ma.L3</th>  <td>   -0.7385</td> <td>    0.109</td> <td>   -6.778</td> <td> 0.000</td> <td>   -0.952</td> <td>   -0.525</td>\n",
       "</tr>\n",
       "<tr>\n",
       "  <th>sigma2</th> <td>  724.1709</td> <td>   85.615</td> <td>    8.458</td> <td> 0.000</td> <td>  556.368</td> <td>  891.974</td>\n",
       "</tr>\n",
       "</table>\n",
       "<table class=\"simpletable\">\n",
       "<tr>\n",
       "  <th>Ljung-Box (Q):</th>          <td>256.02</td> <th>  Jarque-Bera (JB):  </th> <td>14.59</td>\n",
       "</tr>\n",
       "<tr>\n",
       "  <th>Prob(Q):</th>                 <td>0.00</td>  <th>  Prob(JB):          </th> <td>0.00</td> \n",
       "</tr>\n",
       "<tr>\n",
       "  <th>Heteroskedasticity (H):</th>  <td>5.66</td>  <th>  Skew:              </th> <td>0.74</td> \n",
       "</tr>\n",
       "<tr>\n",
       "  <th>Prob(H) (two-sided):</th>     <td>0.00</td>  <th>  Kurtosis:          </th> <td>3.52</td> \n",
       "</tr>\n",
       "</table><br/><br/>Warnings:<br/>[1] Covariance matrix calculated using the outer product of gradients (complex-step)."
      ],
      "text/plain": [
       "<class 'statsmodels.iolib.summary.Summary'>\n",
       "\"\"\"\n",
       "                               SARIMAX Results                                \n",
       "==============================================================================\n",
       "Dep. Variable:                      y   No. Observations:                  144\n",
       "Model:               SARIMAX(4, 1, 3)   Log Likelihood                -674.913\n",
       "Date:                Wed, 26 Aug 2020   AIC                           1365.825\n",
       "Time:                        01:37:57   BIC                           1389.528\n",
       "Sample:                             0   HQIC                          1375.457\n",
       "                                - 144                                         \n",
       "Covariance Type:                  opg                                         \n",
       "==============================================================================\n",
       "                 coef    std err          z      P>|z|      [0.025      0.975]\n",
       "------------------------------------------------------------------------------\n",
       "ar.L1         -0.5582      0.117     -4.782      0.000      -0.787      -0.329\n",
       "ar.L2          0.4935      0.113      4.375      0.000       0.272       0.715\n",
       "ar.L3          0.1238      0.128      0.970      0.332      -0.126       0.374\n",
       "ar.L4         -0.5213      0.085     -6.136      0.000      -0.688      -0.355\n",
       "ma.L1          0.9069      0.094      9.657      0.000       0.723       1.091\n",
       "ma.L2         -0.5590      0.145     -3.866      0.000      -0.842      -0.276\n",
       "ma.L3         -0.7385      0.109     -6.778      0.000      -0.952      -0.525\n",
       "sigma2       724.1709     85.615      8.458      0.000     556.368     891.974\n",
       "===================================================================================\n",
       "Ljung-Box (Q):                      256.02   Jarque-Bera (JB):                14.59\n",
       "Prob(Q):                              0.00   Prob(JB):                         0.00\n",
       "Heteroskedasticity (H):               5.66   Skew:                             0.74\n",
       "Prob(H) (two-sided):                  0.00   Kurtosis:                         3.52\n",
       "===================================================================================\n",
       "\n",
       "Warnings:\n",
       "[1] Covariance matrix calculated using the outer product of gradients (complex-step).\n",
       "\"\"\""
      ]
     },
     "execution_count": 60,
     "metadata": {},
     "output_type": "execute_result"
    }
   ],
   "source": [
    "auto_arima(df_Air['Thousands of Passengers'],error_action='ignore').summary()"
   ]
  },
  {
   "cell_type": "code",
   "execution_count": 59,
   "metadata": {},
   "outputs": [
    {
     "data": {
      "text/html": [
       "<table class=\"simpletable\">\n",
       "<caption>SARIMAX Results</caption>\n",
       "<tr>\n",
       "  <th>Dep. Variable:</th>           <td>y</td>        <th>  No. Observations:  </th>    <td>365</td>   \n",
       "</tr>\n",
       "<tr>\n",
       "  <th>Model:</th>           <td>SARIMAX(1, 1, 1)</td> <th>  Log Likelihood     </th> <td>-1226.537</td>\n",
       "</tr>\n",
       "<tr>\n",
       "  <th>Date:</th>            <td>Wed, 26 Aug 2020</td> <th>  AIC                </th> <td>2459.074</td> \n",
       "</tr>\n",
       "<tr>\n",
       "  <th>Time:</th>                <td>01:36:58</td>     <th>  BIC                </th> <td>2470.766</td> \n",
       "</tr>\n",
       "<tr>\n",
       "  <th>Sample:</th>                  <td>0</td>        <th>  HQIC               </th> <td>2463.721</td> \n",
       "</tr>\n",
       "<tr>\n",
       "  <th></th>                      <td> - 365</td>      <th>                     </th>     <td> </td>    \n",
       "</tr>\n",
       "<tr>\n",
       "  <th>Covariance Type:</th>        <td>opg</td>       <th>                     </th>     <td> </td>    \n",
       "</tr>\n",
       "</table>\n",
       "<table class=\"simpletable\">\n",
       "<tr>\n",
       "     <td></td>       <th>coef</th>     <th>std err</th>      <th>z</th>      <th>P>|z|</th>  <th>[0.025</th>    <th>0.975]</th>  \n",
       "</tr>\n",
       "<tr>\n",
       "  <th>ar.L1</th>  <td>    0.1252</td> <td>    0.060</td> <td>    2.097</td> <td> 0.036</td> <td>    0.008</td> <td>    0.242</td>\n",
       "</tr>\n",
       "<tr>\n",
       "  <th>ma.L1</th>  <td>   -0.9624</td> <td>    0.017</td> <td>  -56.429</td> <td> 0.000</td> <td>   -0.996</td> <td>   -0.929</td>\n",
       "</tr>\n",
       "<tr>\n",
       "  <th>sigma2</th> <td>   49.1512</td> <td>    3.250</td> <td>   15.122</td> <td> 0.000</td> <td>   42.781</td> <td>   55.522</td>\n",
       "</tr>\n",
       "</table>\n",
       "<table class=\"simpletable\">\n",
       "<tr>\n",
       "  <th>Ljung-Box (Q):</th>          <td>37.21</td> <th>  Jarque-Bera (JB):  </th> <td>25.33</td>\n",
       "</tr>\n",
       "<tr>\n",
       "  <th>Prob(Q):</th>                <td>0.60</td>  <th>  Prob(JB):          </th> <td>0.00</td> \n",
       "</tr>\n",
       "<tr>\n",
       "  <th>Heteroskedasticity (H):</th> <td>0.96</td>  <th>  Skew:              </th> <td>0.57</td> \n",
       "</tr>\n",
       "<tr>\n",
       "  <th>Prob(H) (two-sided):</th>    <td>0.81</td>  <th>  Kurtosis:          </th> <td>3.60</td> \n",
       "</tr>\n",
       "</table><br/><br/>Warnings:<br/>[1] Covariance matrix calculated using the outer product of gradients (complex-step)."
      ],
      "text/plain": [
       "<class 'statsmodels.iolib.summary.Summary'>\n",
       "\"\"\"\n",
       "                               SARIMAX Results                                \n",
       "==============================================================================\n",
       "Dep. Variable:                      y   No. Observations:                  365\n",
       "Model:               SARIMAX(1, 1, 1)   Log Likelihood               -1226.537\n",
       "Date:                Wed, 26 Aug 2020   AIC                           2459.074\n",
       "Time:                        01:36:58   BIC                           2470.766\n",
       "Sample:                             0   HQIC                          2463.721\n",
       "                                - 365                                         \n",
       "Covariance Type:                  opg                                         \n",
       "==============================================================================\n",
       "                 coef    std err          z      P>|z|      [0.025      0.975]\n",
       "------------------------------------------------------------------------------\n",
       "ar.L1          0.1252      0.060      2.097      0.036       0.008       0.242\n",
       "ma.L1         -0.9624      0.017    -56.429      0.000      -0.996      -0.929\n",
       "sigma2        49.1512      3.250     15.122      0.000      42.781      55.522\n",
       "===================================================================================\n",
       "Ljung-Box (Q):                       37.21   Jarque-Bera (JB):                25.33\n",
       "Prob(Q):                              0.60   Prob(JB):                         0.00\n",
       "Heteroskedasticity (H):               0.96   Skew:                             0.57\n",
       "Prob(H) (two-sided):                  0.81   Kurtosis:                         3.60\n",
       "===================================================================================\n",
       "\n",
       "Warnings:\n",
       "[1] Covariance matrix calculated using the outer product of gradients (complex-step).\n",
       "\"\"\""
      ]
     },
     "execution_count": 59,
     "metadata": {},
     "output_type": "execute_result"
    }
   ],
   "source": [
    "auto_arima(df_Birth['Births'],error_action='ignore').summary()"
   ]
  },
  {
   "cell_type": "code",
   "execution_count": 65,
   "metadata": {},
   "outputs": [
    {
     "name": "stdout",
     "output_type": "stream",
     "text": [
      "Performing stepwise search to minimize aic\n",
      " ARIMA(0,1,0)(0,0,0)[0] intercept   : AIC=2650.760, Time=0.02 sec\n",
      " ARIMA(1,1,0)(0,0,0)[0] intercept   : AIC=2565.234, Time=0.07 sec\n",
      " ARIMA(0,1,1)(0,0,0)[0] intercept   : AIC=2463.584, Time=0.25 sec\n",
      " ARIMA(0,1,0)(0,0,0)[0]             : AIC=2648.768, Time=0.02 sec\n",
      " ARIMA(1,1,1)(0,0,0)[0] intercept   : AIC=2460.154, Time=0.39 sec\n",
      " ARIMA(2,1,1)(0,0,0)[0] intercept   : AIC=2461.271, Time=0.59 sec\n",
      " ARIMA(1,1,2)(0,0,0)[0] intercept   : AIC=inf, Time=1.02 sec\n",
      " ARIMA(0,1,2)(0,0,0)[0] intercept   : AIC=2460.722, Time=0.41 sec\n",
      " ARIMA(2,1,0)(0,0,0)[0] intercept   : AIC=2536.154, Time=0.15 sec\n",
      " ARIMA(2,1,2)(0,0,0)[0] intercept   : AIC=2463.066, Time=1.12 sec\n",
      " ARIMA(1,1,1)(0,0,0)[0]             : AIC=2459.074, Time=0.14 sec\n",
      " ARIMA(0,1,1)(0,0,0)[0]             : AIC=2462.221, Time=0.07 sec\n",
      " ARIMA(1,1,0)(0,0,0)[0]             : AIC=2563.261, Time=0.07 sec\n",
      " ARIMA(2,1,1)(0,0,0)[0]             : AIC=2460.367, Time=0.30 sec\n",
      " ARIMA(1,1,2)(0,0,0)[0]             : AIC=2460.427, Time=0.53 sec\n",
      " ARIMA(0,1,2)(0,0,0)[0]             : AIC=2459.571, Time=0.13 sec\n",
      " ARIMA(2,1,0)(0,0,0)[0]             : AIC=2534.205, Time=0.08 sec\n",
      " ARIMA(2,1,2)(0,0,0)[0]             : AIC=2462.366, Time=0.79 sec\n",
      "\n",
      "Best model:  ARIMA(1,1,1)(0,0,0)[0]          \n",
      "Total fit time: 6.184 seconds\n"
     ]
    }
   ],
   "source": [
    "stepwise= auto_arima(df_Birth['Births'],start_p=0,start_q=0,max_p=6,max_q=3,m=12, seasonal=False,d=None,trace=True,error_action='ignore',\n",
    "                    stepwise=True)"
   ]
  },
  {
   "cell_type": "code",
   "execution_count": 67,
   "metadata": {},
   "outputs": [
    {
     "name": "stdout",
     "output_type": "stream",
     "text": [
      "Performing stepwise search to minimize aic\n",
      " ARIMA(0,1,0)(0,0,0)[0] intercept   : AIC=1415.278, Time=0.01 sec\n",
      " ARIMA(1,1,0)(0,0,0)[0] intercept   : AIC=1403.473, Time=0.06 sec\n",
      " ARIMA(0,1,1)(0,0,0)[0] intercept   : AIC=1398.827, Time=0.11 sec\n",
      " ARIMA(0,1,0)(0,0,0)[0]             : AIC=1413.909, Time=0.01 sec\n",
      " ARIMA(1,1,1)(0,0,0)[0] intercept   : AIC=1396.121, Time=0.29 sec\n",
      " ARIMA(2,1,1)(0,0,0)[0] intercept   : AIC=inf, Time=0.51 sec\n",
      " ARIMA(1,1,2)(0,0,0)[0] intercept   : AIC=inf, Time=0.39 sec\n",
      " ARIMA(0,1,2)(0,0,0)[0] intercept   : AIC=1398.386, Time=0.22 sec\n",
      " ARIMA(2,1,0)(0,0,0)[0] intercept   : AIC=1397.975, Time=0.15 sec\n",
      " ARIMA(2,1,2)(0,0,0)[0] intercept   : AIC=inf, Time=0.93 sec\n",
      " ARIMA(1,1,1)(0,0,0)[0]             : AIC=1394.683, Time=0.11 sec\n",
      " ARIMA(0,1,1)(0,0,0)[0]             : AIC=1397.258, Time=0.06 sec\n",
      " ARIMA(1,1,0)(0,0,0)[0]             : AIC=1401.852, Time=0.05 sec\n",
      " ARIMA(2,1,1)(0,0,0)[0]             : AIC=1378.338, Time=0.15 sec\n",
      " ARIMA(2,1,0)(0,0,0)[0]             : AIC=1396.588, Time=0.08 sec\n",
      " ARIMA(3,1,1)(0,0,0)[0]             : AIC=1379.614, Time=0.49 sec\n",
      " ARIMA(2,1,2)(0,0,0)[0]             : AIC=inf, Time=0.82 sec\n",
      " ARIMA(1,1,2)(0,0,0)[0]             : AIC=1385.498, Time=0.18 sec\n",
      " ARIMA(3,1,0)(0,0,0)[0]             : AIC=1395.021, Time=0.14 sec\n",
      " ARIMA(3,1,2)(0,0,0)[0]             : AIC=1377.086, Time=0.40 sec\n",
      " ARIMA(4,1,2)(0,0,0)[0]             : AIC=1373.560, Time=0.62 sec\n",
      " ARIMA(4,1,1)(0,0,0)[0]             : AIC=1384.053, Time=0.42 sec\n",
      " ARIMA(5,1,2)(0,0,0)[0]             : AIC=1375.353, Time=0.57 sec\n",
      " ARIMA(4,1,3)(0,0,0)[0]             : AIC=1365.825, Time=1.02 sec\n",
      " ARIMA(3,1,3)(0,0,0)[0]             : AIC=inf, Time=1.09 sec\n",
      " ARIMA(5,1,3)(0,0,0)[0]             : AIC=inf, Time=1.26 sec\n",
      " ARIMA(4,1,3)(0,0,0)[0] intercept   : AIC=inf, Time=1.28 sec\n",
      "\n",
      "Best model:  ARIMA(4,1,3)(0,0,0)[0]          \n",
      "Total fit time: 11.488 seconds\n"
     ]
    }
   ],
   "source": [
    "stepwise= auto_arima(df_Air['Thousands of Passengers'],start_p=0,start_q=0,max_p=6,max_q=3,m=12, seasonal=False,d=None,trace=True,error_action='ignore',\n",
    "                    stepwise=True)"
   ]
  },
  {
   "cell_type": "code",
   "execution_count": null,
   "metadata": {},
   "outputs": [],
   "source": []
  },
  {
   "cell_type": "code",
   "execution_count": null,
   "metadata": {},
   "outputs": [],
   "source": []
  }
 ],
 "metadata": {
  "kernelspec": {
   "display_name": "Python 3.7.6 64-bit",
   "language": "python",
   "name": "python37664bitaec352e918e64aafb6382c42bd7f3242"
  },
  "language_info": {
   "codemirror_mode": {
    "name": "ipython",
    "version": 3
   },
   "file_extension": ".py",
   "mimetype": "text/x-python",
   "name": "python",
   "nbconvert_exporter": "python",
   "pygments_lexer": "ipython3",
   "version": "3.7.6"
  }
 },
 "nbformat": 4,
 "nbformat_minor": 4
}
