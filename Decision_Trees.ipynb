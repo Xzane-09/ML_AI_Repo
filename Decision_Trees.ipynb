{
 "cells": [
  {
   "cell_type": "markdown",
   "metadata": {},
   "source": [
    "# Decision Tree Classification in Python\n",
    "\n",
    "## Topics: \n",
    "* Decision Tree Classification\n",
    "* Attribute selection measures\n",
    "* How to build and optimize Decision Tree Classifier using Python Scikit-learn package.\n",
    "\n",
    "    * Decision Tree Algorithm\n",
    "    * How does the Decision Tree algorithm work?\n",
    "    * Attribute Selection Measures\n",
    "    * Information Gain\n",
    "    * Gain Ratio\n",
    "    * Gini index\n",
    "    * Optimizing Decision Tree Performance\n",
    "    * Classifier Building in Scikit-learn\n",
    "    * Pros and Cons\n",
    "\n",
    "\n",
    "\n",
    "# Business Problem\n",
    "\n",
    "* As a marketing manager, you want a set of customers who are most likely to purchase your product. \n",
    "    * This is how you can save your marketing budget by finding your audience. \n",
    "\n",
    "\n",
    "* As a loan manager, you need to identify risky loan applications to achieve a lower loan default rate. \n",
    "    * This process of classifying customers into a group of potential and non-potential customers or safe or risky loan applications is known as a classification problem. \n",
    "\n",
    "\n",
    "* Classification is a two-step process: \n",
    "    * Learning step\n",
    "        * In the learning step, the model is developed based on given training data. \n",
    "        \n",
    "    * Prediction step \n",
    "        * In the prediction step, the model is used to predict the response for given data.\n",
    "\n",
    "\n",
    "### Decision Tree is one of the easiest and popular classification algorithms to understand and interpret. It can be utilized for both classification and regression kind of problem.\n"
   ]
  },
  {
   "cell_type": "markdown",
   "metadata": {},
   "source": [
    "# Decision Tree Algorithm\n",
    "\n",
    "\n",
    "A decision tree is a flowchart-like tree structure where an internal node represents feature(or attribute), the branch represents a decision rule, and each leaf node represents the outcome. \n",
    "\n",
    "\n",
    "The topmost node in a decision tree is known as the root node. \n",
    "\n",
    "\n",
    "It learns to partition on the basis of the attribute value. \n",
    "\n",
    "\n",
    "It partitions the tree in recursively manner call recursive partitioning. \n",
    "\n",
    "\n",
    "This flowchart-like structure helps you in decision making. It's visualization like a flowchart diagram which easily mimics the human level thinking. \n",
    "\n",
    "\n",
    "That is why decision trees are easy to understand and interpret.\n",
    "\n",
    "<img src='img/dt1.JPG'>"
   ]
  },
  {
   "cell_type": "markdown",
   "metadata": {},
   "source": [
    "Decision Tree is a white box type of ML algorithm.\n",
    "\n",
    "\n",
    "It shares internal decision-making logic, which is not available in the black box type of algorithms such as Neural Network.\n",
    "\n",
    "\n",
    "Its training time is faster compared to the neural network algorithm. \n",
    "\n",
    "\n",
    "The time complexity of decision trees is a function of the number of records and number of attributes in the given data. \n",
    "\n",
    "\n",
    "The decision tree is a distribution-free or non-parametric method, which does not depend upon probability distribution assumptions. \n",
    "\n",
    "\n",
    "Decision trees can handle high dimensional data with good accuracy."
   ]
  },
  {
   "cell_type": "markdown",
   "metadata": {},
   "source": [
    "# How does the Decision Tree algorithm work?\n",
    "The basic idea behind any decision tree algorithm is as follows:\n",
    "\n",
    "1. Select the best attribute using Attribute Selection Measures(ASM) to split the records.\n",
    "\n",
    "\n",
    "2. Make that attribute a decision node and breaks the dataset into smaller subsets.\n",
    "\n",
    "\n",
    "3. Starts tree building by repeating this process recursively for each child until one of the condition will match:\n",
    "\n",
    "\n",
    "    * All the tuples belong to the same attribute value.\n",
    "\n",
    "    * There are no more remaining attributes.\n",
    "\n",
    "    * There are no more instances.\n",
    "\n",
    "<img src='img/dt2.JPG'>"
   ]
  },
  {
   "cell_type": "markdown",
   "metadata": {},
   "source": [
    "# Attribute Selection Measures\n",
    "\n",
    "Attribute selection measure is a heuristic for selecting the splitting criterion that partition data into the best possible manner. \n",
    "\n",
    "\n",
    "It is also known as splitting rules because it helps us to determine breakpoints for tuples on a given node. \n",
    "\n",
    "\n",
    "ASM provides a rank to each feature(or attribute) by explaining the given dataset. \n",
    "\n",
    "\n",
    "Best score attribute will be selected as a splitting attribute. \n",
    "\n",
    "\n",
    "In the case of a continuous-valued attribute, split points for branches also need to define. \n",
    "\n",
    "\n",
    "Most popular selection measures are Information Gain, Gain Ratio, and Gini Index.\n",
    "\n",
    "## Reference Material for more details\n",
    "http://www.ijoart.org/docs/Construction-of-Decision-Tree--Attribute-Selection-Measures.pdf"
   ]
  },
  {
   "cell_type": "markdown",
   "metadata": {},
   "source": [
    "## Information Gain\n",
    "Shannon invented the concept of entropy, which measures the impurity of the input set. \n",
    "\n",
    "\n",
    "In physics and mathematics, entropy referred as the randomness or the impurity in the system. \n",
    "\n",
    "\n",
    "In information theory, it refers to the impurity in a group of examples. Information gain is the decrease in entropy. \n",
    "\n",
    "\n",
    "Information gain computes the difference between entropy before split and average entropy after split of the dataset based on given attribute values. ID3 (Iterative Dichotomiser) decision tree algorithm uses information gain.\n",
    "\n",
    "<img src='img/dt3.JPG'>\n",
    "\n",
    "* Info(D) is the average amount of information needed to identify the class label of a tuple in D.\n",
    "* |Dj|/|D| acts as the weight of the jth partition.\n",
    "* InfoA(D) is the expected informa-tion required to classify a tuple from D based on the partitioning by A.\n",
    "\n",
    "\n",
    "The attribute A with the highest information gain, Gain(A), is chosen as the splitting attribute at node N()."
   ]
  },
  {
   "cell_type": "markdown",
   "metadata": {},
   "source": [
    "# Gain Ratio\n",
    "\n",
    "Information gain is biased for the attribute with many outcomes. \n",
    "\n",
    "\n",
    "It means it prefers the attribute with a large number of distinct values. For instance, consider an attribute with a unique identifier such as customer_ID has zero info(D) because of pure partition. \n",
    "\n",
    "\n",
    "This maximizes the information gain and creates useless partitioning.\n",
    "\n",
    "C4.5, an improvement of ID3, uses an extension to information gain known as the gain ratio. Gain ratio handles the issue of bias by normalizing the information gain using Split Info. Java implementation of the C4.5 algorithm is known as J48, which is available in WEKA data mining tool.\n",
    "\n",
    "<img src='img/dt4.JPG'>\n"
   ]
  },
  {
   "cell_type": "markdown",
   "metadata": {},
   "source": [
    "# Gini index\n",
    "\n",
    "Another decision tree algorithm CART (Classification and Regression Tree) uses the Gini method to create split points.\n",
    "\n",
    "<img src='img/dt5.JPG'>\n",
    "\n",
    "\n",
    "Where, pi is the probability that a tuple in D belongs to class Ci.\n",
    "\n",
    "The Gini Index considers a binary split for each attribute. You can compute a weighted sum of the impurity of each partition. If a binary split on attribute A partitions data D into D1 and D2, the Gini index of D is:\n",
    "\n",
    "<img src='img/dt6.JPG'>\n",
    "\n",
    "In case of a discrete-valued attribute, the subset that gives the minimum gini index for that chosen is selected as a splitting attribute. In the case of continuous-valued attributes, the strategy is to select each pair of adjacent values as a possible split-point and point with smaller gini index chosen as the splitting point.\n",
    "\n",
    "<img src='img/dt7.JPG'>\n",
    "\n",
    "The attribute with minimum Gini index is chosen as the splitting attribute."
   ]
  },
  {
   "cell_type": "markdown",
   "metadata": {},
   "source": [
    "# Decision Tree Classifier Building in Scikit-learn"
   ]
  },
  {
   "cell_type": "code",
   "execution_count": 1,
   "metadata": {},
   "outputs": [],
   "source": [
    "# Load libraries\n",
    "import pandas as pd\n",
    "import matplotlib.pyplot as plt\n",
    "import seaborn as sns\n",
    "sns.set()\n",
    "from sklearn.tree import DecisionTreeClassifier # Import Decision Tree Classifier\n",
    "from sklearn.model_selection import train_test_split # Import train_test_split function\n",
    "from sklearn import metrics #Import scikit-learn metrics module for accuracy calculation"
   ]
  },
  {
   "cell_type": "markdown",
   "metadata": {},
   "source": [
    "# Loading Data\n",
    "Let's first load the required Pima Indian Diabetes dataset using pandas' read CSV function."
   ]
  },
  {
   "cell_type": "code",
   "execution_count": 2,
   "metadata": {},
   "outputs": [],
   "source": [
    "col_names = ['pregnant', 'glucose', 'bp', 'skin', 'insulin', 'bmi', 'pedigree', 'age','label']\n",
    "\n",
    "#pima = pd.read_csv(url, header=None, names=col_names)\n",
    "\n",
    "pima = pd.read_csv('dataset/diabetes.csv')#, header=None, names=col_names)\n",
    "pima.columns=col_names"
   ]
  },
  {
   "cell_type": "code",
   "execution_count": 3,
   "metadata": {},
   "outputs": [
    {
     "data": {
      "text/html": [
       "<div>\n",
       "<style scoped>\n",
       "    .dataframe tbody tr th:only-of-type {\n",
       "        vertical-align: middle;\n",
       "    }\n",
       "\n",
       "    .dataframe tbody tr th {\n",
       "        vertical-align: top;\n",
       "    }\n",
       "\n",
       "    .dataframe thead th {\n",
       "        text-align: right;\n",
       "    }\n",
       "</style>\n",
       "<table border=\"1\" class=\"dataframe\">\n",
       "  <thead>\n",
       "    <tr style=\"text-align: right;\">\n",
       "      <th></th>\n",
       "      <th>pregnant</th>\n",
       "      <th>glucose</th>\n",
       "      <th>bp</th>\n",
       "      <th>skin</th>\n",
       "      <th>insulin</th>\n",
       "      <th>bmi</th>\n",
       "      <th>pedigree</th>\n",
       "      <th>age</th>\n",
       "      <th>label</th>\n",
       "    </tr>\n",
       "  </thead>\n",
       "  <tbody>\n",
       "    <tr>\n",
       "      <td>0</td>\n",
       "      <td>6</td>\n",
       "      <td>148</td>\n",
       "      <td>72</td>\n",
       "      <td>35</td>\n",
       "      <td>0</td>\n",
       "      <td>33.6</td>\n",
       "      <td>0.627</td>\n",
       "      <td>50</td>\n",
       "      <td>1</td>\n",
       "    </tr>\n",
       "    <tr>\n",
       "      <td>1</td>\n",
       "      <td>1</td>\n",
       "      <td>85</td>\n",
       "      <td>66</td>\n",
       "      <td>29</td>\n",
       "      <td>0</td>\n",
       "      <td>26.6</td>\n",
       "      <td>0.351</td>\n",
       "      <td>31</td>\n",
       "      <td>0</td>\n",
       "    </tr>\n",
       "    <tr>\n",
       "      <td>2</td>\n",
       "      <td>8</td>\n",
       "      <td>183</td>\n",
       "      <td>64</td>\n",
       "      <td>0</td>\n",
       "      <td>0</td>\n",
       "      <td>23.3</td>\n",
       "      <td>0.672</td>\n",
       "      <td>32</td>\n",
       "      <td>1</td>\n",
       "    </tr>\n",
       "    <tr>\n",
       "      <td>3</td>\n",
       "      <td>1</td>\n",
       "      <td>89</td>\n",
       "      <td>66</td>\n",
       "      <td>23</td>\n",
       "      <td>94</td>\n",
       "      <td>28.1</td>\n",
       "      <td>0.167</td>\n",
       "      <td>21</td>\n",
       "      <td>0</td>\n",
       "    </tr>\n",
       "    <tr>\n",
       "      <td>4</td>\n",
       "      <td>0</td>\n",
       "      <td>137</td>\n",
       "      <td>40</td>\n",
       "      <td>35</td>\n",
       "      <td>168</td>\n",
       "      <td>43.1</td>\n",
       "      <td>2.288</td>\n",
       "      <td>33</td>\n",
       "      <td>1</td>\n",
       "    </tr>\n",
       "  </tbody>\n",
       "</table>\n",
       "</div>"
      ],
      "text/plain": [
       "   pregnant  glucose  bp  skin  insulin   bmi  pedigree  age  label\n",
       "0         6      148  72    35        0  33.6     0.627   50      1\n",
       "1         1       85  66    29        0  26.6     0.351   31      0\n",
       "2         8      183  64     0        0  23.3     0.672   32      1\n",
       "3         1       89  66    23       94  28.1     0.167   21      0\n",
       "4         0      137  40    35      168  43.1     2.288   33      1"
      ]
     },
     "execution_count": 3,
     "metadata": {},
     "output_type": "execute_result"
    }
   ],
   "source": [
    "pima.head()"
   ]
  },
  {
   "cell_type": "markdown",
   "metadata": {},
   "source": [
    "# Feature Selection\n",
    "Here, you need to divide given columns into two types of variables dependent(or target variable) and independent variable(or feature variables)."
   ]
  },
  {
   "cell_type": "code",
   "execution_count": 4,
   "metadata": {},
   "outputs": [],
   "source": [
    "#split dataset in features and target variable\n",
    "feature_cols = ['pregnant', 'insulin', 'bmi', 'age','glucose','bp','pedigree']\n",
    "X = pima[feature_cols] # Features\n",
    "y = pima.label # Target variable"
   ]
  },
  {
   "cell_type": "markdown",
   "metadata": {},
   "source": [
    "# Splitting Data\n",
    "To understand model performance, dividing the dataset into a training set and a test set is a good strategy.\n",
    "\n",
    "Let's split the dataset by using function train_test_split(). You need to pass 3 parameters features, target, and test_set size."
   ]
  },
  {
   "cell_type": "code",
   "execution_count": 5,
   "metadata": {},
   "outputs": [],
   "source": [
    "# Split dataset into training set and test set\n",
    "X_train, X_test, y_train, y_test = train_test_split(X, y, test_size=0.3, random_state=1) # 70% training and 30% test"
   ]
  },
  {
   "cell_type": "markdown",
   "metadata": {},
   "source": [
    "# Building Decision Tree Model\n",
    "Let's create a Decision Tree Model using Scikit-learn.\n",
    "\n"
   ]
  },
  {
   "cell_type": "code",
   "execution_count": 6,
   "metadata": {},
   "outputs": [],
   "source": [
    "# Create Decision Tree classifer object\n",
    "clf = DecisionTreeClassifier()\n",
    "\n",
    "# Train Decision Tree Classifer\n",
    "clf = clf.fit(X_train,y_train)\n",
    "\n",
    "#Predict the response for test dataset\n",
    "y_pred = clf.predict(X_test)"
   ]
  },
  {
   "cell_type": "markdown",
   "metadata": {},
   "source": [
    "# Evaluating Model\n",
    "Let's estimate, how accurately the classifier or model can predict the type of cultivars.\n",
    "\n",
    "Accuracy can be computed by comparing actual test set values and predicted values."
   ]
  },
  {
   "cell_type": "code",
   "execution_count": 7,
   "metadata": {},
   "outputs": [
    {
     "name": "stdout",
     "output_type": "stream",
     "text": [
      "Accuracy: 0.683982683982684\n"
     ]
    }
   ],
   "source": [
    "# Model Accuracy, how often is the classifier correct?\n",
    "print(\"Accuracy:\",metrics.accuracy_score(y_test, y_pred))"
   ]
  },
  {
   "cell_type": "markdown",
   "metadata": {},
   "source": [
    "Classification rate of 65.36%, considered as good accuracy. You can improve this accuracy by tuning the parameters in the Decision Tree Algorithm."
   ]
  },
  {
   "cell_type": "markdown",
   "metadata": {},
   "source": [
    "# Optimizing Decision Tree Performance\n",
    "## criterion : optional (default=”gini”) or Choose attribute selection measure: \n",
    "This parameter allows us to use the different-different attribute selection measure. Supported criteria are “gini” for the Gini index and “entropy” for the information gain.\n",
    "\n",
    "## splitter : string, optional (default=”best”) or Split Strategy: \n",
    "This parameter allows us to choose the split strategy. Supported strategies are “best” to choose the best split and “random” to choose the best random split.\n",
    "\n",
    "## max_depth : int or None, optional (default=None) or Maximum Depth of a Tree: \n",
    "The maximum depth of the tree. If None, then nodes are expanded until all the leaves contain less than min_samples_split samples. The higher value of maximum depth causes overfitting, and a lower value causes underfitting (Source).\n",
    "\n",
    "### Ref: \n",
    "https://scikit-learn.org/stable/modules/generated/sklearn.tree.DecisionTreeClassifier.html\n",
    "\n",
    "\n",
    "* In Scikit-learn, optimization of decision tree classifier performed by only pre-pruning. \n",
    "\n",
    "* Maximum depth of the tree can be used as a control variable for pre-pruning. \n",
    "\n",
    "* In the following the example, you can plot a decision tree on the same data with max_depth=3. \n",
    "\n",
    "* Other than pre-pruning parameters, You can also try other attribute selection measure such as entropy.\n",
    "\n"
   ]
  },
  {
   "cell_type": "code",
   "execution_count": null,
   "metadata": {},
   "outputs": [],
   "source": [
    "# Create Decision Tree classifer object\n",
    "clf = DecisionTreeClassifier(criterion=\"entropy\", max_depth=3)\n",
    "\n",
    "# Train Decision Tree Classifer\n",
    "clf = clf.fit(X_train,y_train)\n",
    "\n",
    "#Predict the response for test dataset\n",
    "y_pred = clf.predict(X_test)\n",
    "\n",
    "# Model Accuracy, how often is the classifier correct?\n",
    "print(\"Accuracy:\",metrics.accuracy_score(y_test, y_pred))\n"
   ]
  },
  {
   "cell_type": "markdown",
   "metadata": {},
   "source": [
    "#### Classification rate increased to 77.05%, which is better accuracy than the previous model. \n",
    "\n",
    "#### This pruned model is less complex, explainable, and easy to understand than the previous decision tree model plot.\n",
    "\n"
   ]
  },
  {
   "cell_type": "markdown",
   "metadata": {},
   "source": [
    "# Pros\n",
    "\n",
    "\n",
    "* Decision trees are easy to interpret and visualize.\n",
    "\n",
    "\n",
    "* It can easily capture Non-linear patterns.\n",
    "\n",
    "\n",
    "* It requires fewer data preprocessing from the user, for example, there is no need to normalize columns.\n",
    "\n",
    "\n",
    "* It can be used for feature engineering such as predicting missing values, suitable for variable selection.\n",
    "\n",
    "\n",
    "* The decision tree has no assumptions about distribution because of the non-parametric nature of the algorithm. (Source)\n",
    "\n",
    "\n",
    "# Cons\n",
    "* Sensitive to noisy data. It can overfit noisy data.\n",
    "\n",
    "\n",
    "* The small variation(or variance) in data can result in the different decision tree. This can be reduced by bagging and boosting algorithms.\n",
    "\n",
    "\n",
    "* Decision trees are biased with imbalance dataset, so it is recommended that balance out the dataset before creating the decision tree."
   ]
  },
  {
   "cell_type": "code",
   "execution_count": null,
   "metadata": {},
   "outputs": [],
   "source": [
    "#!conda install python-graphviz"
   ]
  },
  {
   "cell_type": "markdown",
   "metadata": {},
   "source": [
    "# eof"
   ]
  },
  {
   "cell_type": "code",
   "execution_count": null,
   "metadata": {},
   "outputs": [],
   "source": []
  }
 ],
 "metadata": {
  "kernelspec": {
   "display_name": "Python 3",
   "language": "python",
   "name": "python3"
  },
  "language_info": {
   "codemirror_mode": {
    "name": "ipython",
    "version": 3
   },
   "file_extension": ".py",
   "mimetype": "text/x-python",
   "name": "python",
   "nbconvert_exporter": "python",
   "pygments_lexer": "ipython3",
   "version": "3.7.4"
  }
 },
 "nbformat": 4,
 "nbformat_minor": 2
}
